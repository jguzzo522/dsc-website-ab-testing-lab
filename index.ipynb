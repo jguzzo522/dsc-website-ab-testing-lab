{
 "cells": [
  {
   "cell_type": "markdown",
   "metadata": {},
   "source": [
    "# Website A/B Testing - Lab\n",
    "\n",
    "## Introduction\n",
    "\n",
    "In this lab, you'll get another chance to practice your skills at conducting a full A/B test analysis. It will also be a chance to practice your data exploration and processing skills! The scenario you'll be investigating is data collected from the homepage of a music app page for audacity.\n",
    "\n",
    "## Objectives\n",
    "\n",
    "You will be able to:\n",
    "* Analyze the data from a website A/B test to draw relevant conclusions\n",
    "* Explore and analyze web action data"
   ]
  },
  {
   "cell_type": "markdown",
   "metadata": {},
   "source": [
    "## Exploratory Analysis\n",
    "\n",
    "Start by loading in the dataset stored in the file 'homepage_actions.csv'. Then conduct an exploratory analysis to get familiar with the data."
   ]
  },
  {
   "cell_type": "markdown",
   "metadata": {},
   "source": [
    "> Hints:\n",
    "    * Start investigating the id column:\n",
    "        * How many viewers also clicked?\n",
    "        * Are there any anomalies with the data; did anyone click who didn't view?\n",
    "        * Is there any overlap between the control and experiment groups? \n",
    "            * If so, how do you plan to account for this in your experimental design?"
   ]
  },
  {
   "cell_type": "code",
   "execution_count": 3,
   "metadata": {},
   "outputs": [
    {
     "name": "stdout",
     "output_type": "stream",
     "text": [
      "                    timestamp      id       group action\n",
      "0  2016-09-24 17:42:27.839496  804196  experiment   view\n",
      "1  2016-09-24 19:19:03.542569  434745  experiment   view\n",
      "2  2016-09-24 19:36:00.944135  507599  experiment   view\n",
      "3  2016-09-24 19:59:02.646620  671993     control   view\n",
      "4  2016-09-24 20:26:14.466886  536734  experiment   view\n"
     ]
    }
   ],
   "source": [
    "import pandas as pd\n",
    "import matplotlib.pyplot as plt\n",
    "import seaborn as sns\n",
    "df = pd.read_csv('homepage_actions.csv')\n",
    "print(df.head())\n",
    "\n"
   ]
  },
  {
   "cell_type": "markdown",
   "metadata": {},
   "source": [
    "## Conduct a Statistical Test\n",
    "\n",
    "Conduct a statistical test to determine whether the experimental homepage was more effective than that of the control group."
   ]
  },
  {
   "cell_type": "code",
   "execution_count": 5,
   "metadata": {},
   "outputs": [
    {
     "name": "stdout",
     "output_type": "stream",
     "text": [
      "Experimental Conversion Rate: 0.763506625891947\n",
      "Control Conversion Rate: 0.7814258911819888\n",
      "Z-score: -1.9332699751308169\n",
      "P-value: 0.0532029485228941\n"
     ]
    }
   ],
   "source": [
    "grouped_data = df.groupby(['group', 'action'])['id'].count().unstack()\n",
    "grouped_data['total'] = grouped_data.sum(axis=1)\n",
    "grouped_data['conversion_rate'] = grouped_data['view'] / grouped_data['total']\n",
    "\n",
    "experimental_conversion_rate = grouped_data.loc['experiment', 'conversion_rate']\n",
    "control_conversion_rate = grouped_data.loc['control', 'conversion_rate']\n",
    "\n",
    "print(\"Experimental Conversion Rate:\", experimental_conversion_rate)\n",
    "print(\"Control Conversion Rate:\", control_conversion_rate)\n",
    "\n",
    "from statsmodels.stats.proportion import proportions_ztest\n",
    "\n",
    "#view' actions for each group\n",
    "experimental_views = grouped_data.loc['experiment', 'view']\n",
    "control_views = grouped_data.loc['control', 'view']\n",
    "\n",
    "#total counts for each group\n",
    "experimental_total = grouped_data.loc['experiment', 'total']\n",
    "control_total = grouped_data.loc['control', 'total']\n",
    "\n",
    "# Z-test\n",
    "count = [experimental_views, control_views]\n",
    "nobs = [experimental_total, control_total]\n",
    "stat, pval = proportions_ztest(count, nobs)\n",
    "\n",
    "print(\"Z-score:\", stat)\n",
    "print(\"P-value:\", pval)\n"
   ]
  },
  {
   "cell_type": "markdown",
   "metadata": {},
   "source": [
    "## Verifying Results\n",
    "\n",
    "One sensible formulation of the data to answer the hypothesis test above would be to create a binary variable representing each individual in the experiment and control group. This binary variable would represent whether or not that individual clicked on the homepage; 1 for they did and 0 if they did not. \n",
    "\n",
    "The variance for the number of successes in a sample of a binomial variable with n observations is given by:\n",
    "\n",
    "## $n\\bullet p (1-p)$\n",
    "\n",
    "Given this, perform 3 steps to verify the results of your statistical test:\n",
    "1. Calculate the expected number of clicks for the experiment group, if it had the same click-through rate as that of the control group. \n",
    "2. Calculate the number of standard deviations that the actual number of clicks was from this estimate. \n",
    "3. Finally, calculate a p-value using the normal distribution based on this z-score."
   ]
  },
  {
   "cell_type": "markdown",
   "metadata": {},
   "source": [
    "### Step 1:\n",
    "Calculate the expected number of clicks for the experiment group, if it had the same click-through rate as that of the control group. "
   ]
  },
  {
   "cell_type": "code",
   "execution_count": 6,
   "metadata": {},
   "outputs": [
    {
     "name": "stdout",
     "output_type": "stream",
     "text": [
      "Expected Clicks for the Experiment Group: 2996.0\n"
     ]
    }
   ],
   "source": [
    "\n",
    "\n",
    "# Calculate the expected number of clicks for the experiment group\n",
    "expected_clicks_experiment = experimental_conversion_rate * experimental_total\n",
    "\n",
    "print(\"Expected Clicks for the Experiment Group:\", expected_clicks_experiment)\n"
   ]
  },
  {
   "cell_type": "markdown",
   "metadata": {},
   "source": [
    "### Step 2:\n",
    "Calculate the number of standard deviations that the actual number of clicks was from this estimate."
   ]
  },
  {
   "cell_type": "code",
   "execution_count": 11,
   "metadata": {},
   "outputs": [
    {
     "name": "stdout",
     "output_type": "stream",
     "text": [
      "Z-score: -55.327808288190674\n"
     ]
    }
   ],
   "source": [
    "import math\n",
    "\n",
    "\n",
    "actual_clicks_experiment = 123   # Replace 123 with the actual number of clicks\n",
    "\n",
    "# Assuming you have the expected number of clicks for the experiment group as expected_clicks_experiment (calculated in Step 1)\n",
    "expected_clicks_experiment = 2996.0  # Replace 2996.0 with the actual value from your calculation in Step 1\n",
    "\n",
    "# Assuming you have the conversion rate for the experiment group as experimental_conversion_rate\n",
    "experimental_conversion_rate = 0.1   # Replace 0.1 with the actual conversion rate for the experiment group\n",
    "\n",
    "# Calculate the number of standard deviations from the estimate\n",
    "Z_score = (actual_clicks_experiment - expected_clicks_experiment) / math.sqrt(expected_clicks_experiment * (1 - experimental_conversion_rate))\n",
    "\n",
    "print(\"Z-score:\", Z_score)\n",
    "\n",
    "\n",
    "\n"
   ]
  },
  {
   "cell_type": "markdown",
   "metadata": {},
   "source": [
    "### Step 3: \n",
    "Finally, calculate a p-value using the normal distribution based on this z-score."
   ]
  },
  {
   "cell_type": "code",
   "execution_count": 12,
   "metadata": {},
   "outputs": [
    {
     "name": "stdout",
     "output_type": "stream",
     "text": [
      "p-value: 0.0\n"
     ]
    }
   ],
   "source": [
    "import scipy.stats as stats\n",
    "\n",
    "# Assuming you have already calculated the Z-score as Z_score\n",
    "\n",
    "# Calculate the two-tailed p-value\n",
    "p_value = 2 * (1 - stats.norm.cdf(abs(Z_score)))\n",
    "\n",
    "print(\"p-value:\", p_value)\n"
   ]
  },
  {
   "cell_type": "markdown",
   "metadata": {},
   "source": [
    "### Analysis:\n",
    "\n",
    "Does this result roughly match that of the previous statistical test?\n",
    "\n",
    "> Comment: *Having a p-value of <.05 there is strong evidence to reject the null hypothesis. This indicates that the experimental group had a higher click rate than the control gorup.**"
   ]
  },
  {
   "cell_type": "markdown",
   "metadata": {},
   "source": [
    "## Summary\n",
    "\n",
    "In this lab, you continued to get more practice designing and conducting AB tests. This required additional work preprocessing and formulating the initial problem in a suitable manner. Additionally, you also saw how to verify results, strengthening your knowledge of binomial variables, and reviewing initial statistical concepts of the central limit theorem, standard deviation, z-scores, and their accompanying p-values."
   ]
  }
 ],
 "metadata": {
  "kernelspec": {
   "display_name": "Python 3 (ipykernel)",
   "language": "python",
   "name": "python3"
  },
  "language_info": {
   "codemirror_mode": {
    "name": "ipython",
    "version": 3
   },
   "file_extension": ".py",
   "mimetype": "text/x-python",
   "name": "python",
   "nbconvert_exporter": "python",
   "pygments_lexer": "ipython3",
   "version": "3.8.16"
  }
 },
 "nbformat": 4,
 "nbformat_minor": 2
}
